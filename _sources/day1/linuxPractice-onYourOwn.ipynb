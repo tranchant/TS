{
 "cells": [
  {
   "cell_type": "markdown",
   "metadata": {
    "slideshow": {
     "slide_type": "subslide"
    }
   },
   "source": [
    "# First steps on Linux - On Your Own\n",
    "\n",
    "The program is :\n",
    "* using linux commands seen previously and new linux commands\n",
    "* Counting number of reads, of files\n",
    "* Plot some basics stats\n",
    "* Recover sequences of interest from a GFF (capture seq)\n",
    "* Compare two files (BED)\n",
    "* Bonus: create a mini workflow with pipe"
   ]
  },
  {
   "cell_type": "markdown",
   "metadata": {},
   "source": [
    "# where are you? - `pwd`\n",
    "\n",
    "Check if you are in mydatalocal directory\n",
    "\n",
    "<img style=\"float: center;\" width=\"200\" height=\"200\"  src=\"https://tranchant.github.io/TransmittingScience/img/arbo1.png\">"
   ]
  },
  {
   "cell_type": "code",
   "execution_count": 9,
   "metadata": {
    "slideshow": {
     "slide_type": "slide"
    }
   },
   "outputs": [
    {
     "name": "stdout",
     "output_type": "stream",
     "text": [
      "/ifb/data/mydatalocal\n"
     ]
    }
   ],
   "source": [
    "PUT YOUR COMMAND HERE"
   ]
  },
  {
   "cell_type": "markdown",
   "metadata": {},
   "source": [
    "# List the content of the directory mydatalocal - `ls`\n"
   ]
  },
  {
   "cell_type": "code",
   "execution_count": 11,
   "metadata": {},
   "outputs": [
    {
     "name": "stdout",
     "output_type": "stream",
     "text": [
      "fastqDirLR  hello-day1.ipynb            reference.fasta\n",
      "fastqDirSR  linuxLessonPractical.ipynb  Untitled.ipynb\n"
     ]
    }
   ],
   "source": [
    "PUT YOUR COMMAND HERE"
   ]
  },
  {
   "cell_type": "markdown",
   "metadata": {},
   "source": [
    "<img style=\"float: center;\" width=\"200\" height=\"200\"  src=\"https://tranchant.github.io/TransmittingScience/img/arbo2.png\">"
   ]
  },
  {
   "cell_type": "markdown",
   "metadata": {},
   "source": [
    "# List the content of the directory  LINUX-TP - `ls -l`"
   ]
  },
  {
   "cell_type": "code",
   "execution_count": 32,
   "metadata": {},
   "outputs": [
    {
     "name": "stdout",
     "output_type": "stream",
     "text": [
      "AllEst.fasta  Bank  Data  Fasta  Script  transcritsAssembly.fasta\n"
     ]
    }
   ],
   "source": [
    "PUT YOUR COMMAND HERE"
   ]
  },
  {
   "cell_type": "markdown",
   "metadata": {},
   "source": [
    "<img style=\"float: center;\" width=\"500\" height=\"500\"  src=\"https://southgreenplatform.github.io/trainings//images/tpLinux/tp-arbo.png\">"
   ]
  },
  {
   "cell_type": "markdown",
   "metadata": {},
   "source": [
    "__EXERCICES:__\n",
    "\n",
    "* 1 - List the content of the directory Fasta by using its absolute path in first then its relative path - `ls` command\n",
    "* 2 - List the content of the directory Data with the `ls` command and the option `-R`\n",
    "* 3 - List the content of the directory Bank with the `ls` command and the option `-al` or `-a -l`\n"
   ]
  },
  {
   "cell_type": "code",
   "execution_count": null,
   "metadata": {},
   "outputs": [],
   "source": [
    "PUT YOUR COMMAND"
   ]
  },
  {
   "cell_type": "markdown",
   "metadata": {},
   "source": [
    "# Working with the wildcard `*`\n",
    "\n",
    "\n",
    "#### What is a wildcard ?\n",
    "\n",
    "* It is a character that can be used as a substitute for any of a class of characters in a search\n",
    "\n",
    "* Can be used with numerous linux commands \n",
    "\n",
    "#### How to use the wildcard `*`\n",
    "\n",
    "* \\* can represent zero characters, all single characters or any string\n",
    "\n",
    "###### Example\n",
    "`ls *fastq` will display __only the files ended by fastq__ in the directory where I am working1\n",
    "\n",
    "#### Try the following commands using (or not) the wildcad *"
   ]
  },
  {
   "cell_type": "code",
   "execution_count": 2,
   "metadata": {},
   "outputs": [
    {
     "name": "stdout",
     "output_type": "stream",
     "text": [
      "ls: impossible d'accéder à '/ifb/data/mydatalocal/LINUX-TP/Bank': Aucun fichier ou dossier de ce type\n"
     ]
    },
    {
     "ename": "",
     "evalue": "2",
     "output_type": "error",
     "traceback": []
    }
   ],
   "source": [
    "ls /ifb/data/mydatalocal/LINUX-TP/Bank"
   ]
  },
  {
   "cell_type": "code",
   "execution_count": 3,
   "metadata": {},
   "outputs": [
    {
     "name": "stdout",
     "output_type": "stream",
     "text": [
      "bash: /ifb/data/mydatalocal/LINUX-TP/Bank/*fasta: Aucun fichier ou dossier de ce type\n"
     ]
    },
    {
     "ename": "",
     "evalue": "127",
     "output_type": "error",
     "traceback": []
    }
   ],
   "source": [
    "ls /ifb/data/mydatalocal/LINUX-TP/Bank/*fasta"
   ]
  },
  {
   "cell_type": "markdown",
   "metadata": {},
   "source": [
    "__EXERCICES__\n",
    "\n",
    "* 4 - List the content of the directory T-coffee. Are there only fasta files ? - `ls command`\n",
    "* 5 - List only the files starting by sample (in the directory T-coffee ) - `ls command & *`\n",
    "* 6 - List only the files with the fasta extension (in the directory T-coffee ) - `ls command & *`\n",
    "\n"
   ]
  },
  {
   "cell_type": "code",
   "execution_count": null,
   "metadata": {},
   "outputs": [],
   "source": [
    "PUT YOUR COMMAND"
   ]
  },
  {
   "cell_type": "markdown",
   "metadata": {},
   "source": [
    "# Moving into file system using `cd` and `ls` command \n",
    "\n",
    "#### EXERCICES\n",
    "\n",
    "* 7 - Go to the directory _Script_ and check in the prompt you have changed correctly your working directory `pwd`\n",
    "* 8 - List the dir content with `ls`\n"
   ]
  },
  {
   "cell_type": "code",
   "execution_count": null,
   "metadata": {},
   "outputs": [],
   "source": [
    "PUT YOUR COMMAND"
   ]
  },
  {
   "cell_type": "markdown",
   "metadata": {},
   "source": [
    " #### Let's use the command `cd ..`\n",
    "\n",
    "* `cd ..`         : go one folder up\n",
    "* `cd ../..`      : go two folders up\n",
    "\n",
    "#### EXERCICES\n",
    "\n",
    "* 9 - Go to the _Fasta directory_ using `../`\n",
    "* 10 - Go to the _Fastq directory_. From this directory, and without any change in your working dir, list what’s in _samBam directory_\n",
    "* 11 - List _vcf directory_ using `-R option`. What is there in this dir ?\n",
    "* 12 - Come back to the _mydatalocal directory_"
   ]
  },
  {
   "cell_type": "code",
   "execution_count": null,
   "metadata": {},
   "outputs": [],
   "source": [
    "PUT YOUR COMMAND"
   ]
  },
  {
   "cell_type": "markdown",
   "metadata": {},
   "source": [
    "# Some Commands\n",
    "\n",
    "\n",
    "| |    |\n",
    "|:------|:------|\n",
    "|   pwd  | Display the full path of the current directory|\n",
    "|   ls  | List all files/directories|\n",
    "|   cd DIR_NAME| Change the working directory|\n",
    "| rm nom_fichier | Remove a directory\n",
    "| cp file1 file2 | Make a copy of file1 and calls it file2 |\n",
    "| cp FILE_NAME DIR_NAME | Copy the file FILE_NAME in the directory DIR_NAME |\n",
    "| cp FILE DIR/NEW_FILE | Mix of 2 |\n"
   ]
  },
  {
   "cell_type": "markdown",
   "metadata": {},
   "source": [
    "# Manipulating Files and Folders\n",
    "\n",
    "#### Exercices\n",
    "\n",
    "__Be careful with the `rm` command, in linux, there is no bin !!!__\n",
    "* 13 - Remove the file LINUX-TP.tar.gz within the directory mydatalocal - `rm`\n",
    "* 14 - Create a directory called jupyterBook in the firectory mydatalocal - `mkdir`\n",
    "* 15 - Copy the file hello-day1.ipynb, myFirstJupyterbook.ipŷnb into the directory jupyterBook\n",
    "* 16 - Remove the file hello-day1.ipynb, myFirstJupyterbook.ipynb in mydatalocal directory - `rm command`"
   ]
  }
 ],
 "metadata": {
  "celltoolbar": "Format de la Cellule Texte Brut",
  "kernelspec": {
   "display_name": "Bash",
   "language": "bash",
   "name": "bash"
  },
  "language_info": {
   "codemirror_mode": "shell",
   "file_extension": ".sh",
   "mimetype": "text/x-sh",
   "name": "bash"
  },
  "rise": {
   "enable_chalkboard": true
  }
 },
 "nbformat": 4,
 "nbformat_minor": 4
}
