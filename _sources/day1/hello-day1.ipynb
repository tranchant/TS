{
 "cells": [
  {
   "cell_type": "markdown",
   "metadata": {},
   "source": [
    "# To prepare the environment"
   ]
  },
  {
   "cell_type": "markdown",
   "metadata": {},
   "source": [
    "## Where am I on the IFB cluster ?\n",
    "\n",
    "To know, use your first linux command, the `pwd` command"
   ]
  },
  {
   "cell_type": "code",
   "execution_count": 14,
   "metadata": {},
   "outputs": [
    {
     "name": "stdout",
     "output_type": "stream",
     "text": [
      "/ifb/data/mydatalocal\n"
     ]
    }
   ],
   "source": [
    "pwd"
   ]
  },
  {
   "cell_type": "markdown",
   "metadata": {},
   "source": [
    "## FIRST DAY : to load the data used for the training \n",
    "\n",
    "### Copy a dataset used for the training using the linux command `cp`\n",
    "\n",
    "The directory is here : /ifb/data/public/teachdata/ngs-analysis-ird/\n",
    "\n",
    "#### List the content of the directory using the linux command `ls`"
   ]
  },
  {
   "cell_type": "code",
   "execution_count": 9,
   "metadata": {},
   "outputs": [
    {
     "name": "stdout",
     "output_type": "stream",
     "text": [
      "fastqDirLR  fastqDirSR  reference.fasta\n"
     ]
    }
   ],
   "source": [
    "ls /ifb/data/public/teachdata/ngs-analysis-ird/"
   ]
  },
  {
   "cell_type": "markdown",
   "metadata": {},
   "source": [
    "#### Copy this directory in your \"mydatalocal\""
   ]
  },
  {
   "cell_type": "code",
   "execution_count": 11,
   "metadata": {},
   "outputs": [],
   "source": [
    "cp -r /ifb/data/public/teachdata/ngs-analysis-ird/* /ifb/data/mydatalocal"
   ]
  },
  {
   "cell_type": "markdown",
   "metadata": {},
   "source": [
    "#### List the content of your \"mydatalocal\" using the linux command `cp`"
   ]
  },
  {
   "cell_type": "code",
   "execution_count": 3,
   "metadata": {},
   "outputs": [
    {
     "name": "stdout",
     "output_type": "stream",
     "text": [
      "fastqDirLR  fastqDirSR  hello-Copy1.ipynb  reference.fasta\n"
     ]
    }
   ],
   "source": [
    "ls"
   ]
  },
  {
   "cell_type": "markdown",
   "metadata": {},
   "source": [
    "#### Downlad the data used for linux practice - `wget` command"
   ]
  },
  {
   "cell_type": "code",
   "execution_count": null,
   "metadata": {},
   "outputs": [],
   "source": [
    "wget https://bioinfo-storage.ird.fr/teachingNGS/LINUX-TP.tar.gz --no-check-certificate"
   ]
  },
  {
   "cell_type": "markdown",
   "metadata": {},
   "source": [
    "#### Uncompress LINUX-TP directory - `tar zxvf`"
   ]
  },
  {
   "cell_type": "code",
   "execution_count": null,
   "metadata": {},
   "outputs": [],
   "source": [
    "tar zxvf LINUX-TP.tar.gz "
   ]
  },
  {
   "cell_type": "markdown",
   "metadata": {},
   "source": [
    "## Download the jupyter book used to learn linux command - `wget`"
   ]
  },
  {
   "cell_type": "code",
   "execution_count": 2,
   "metadata": {},
   "outputs": [
    {
     "name": "stdout",
     "output_type": "stream",
     "text": [
      "--2021-01-13 15:21:26--  https://bioinfo-storage.ird.fr/teachingNGS/jupyterBook/DAY1/linuxLessonPractical.ipynb\n",
      "Resolving bioinfo-storage.ird.fr (bioinfo-storage.ird.fr)... 91.203.35.166\n",
      "Connecting to bioinfo-storage.ird.fr (bioinfo-storage.ird.fr)|91.203.35.166|:443... connected.\n",
      "WARNING: cannot verify bioinfo-storage.ird.fr's certificate, issued by ‘CN=TERENA SSL CA 3,O=TERENA,L=Amsterdam,ST=Noord-Holland,C=NL’:\n",
      "  Unable to locally verify the issuer's authority.\n",
      "HTTP request sent, awaiting response... 200 OK\n",
      "Length: 5612 (5.5K) [text/plain]\n",
      "Saving to: ‘linuxLessonPractical.ipynb’\n",
      "\n",
      "linuxLessonPractica 100%[===================>]   5.48K  --.-KB/s    in 0s      \n",
      "\n",
      "2021-01-13 15:21:26 (47.3 MB/s) - ‘linuxLessonPractical.ipynb’ saved [5612/5612]\n",
      "\n"
     ]
    }
   ],
   "source": [
    "wget https://bioinfo-storage.ird.fr/teachingNGS/jupyterBook/DAY1/linuxLessonPractical.ipynb --no-check-certificate"
   ]
  }
 ],
 "metadata": {
  "kernelspec": {
   "display_name": "Bash",
   "language": "bash",
   "name": "bash"
  },
  "language_info": {
   "codemirror_mode": "shell",
   "file_extension": ".sh",
   "mimetype": "text/x-sh",
   "name": "bash"
  }
 },
 "nbformat": 4,
 "nbformat_minor": 4
}
